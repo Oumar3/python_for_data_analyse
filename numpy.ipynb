{
 "cells": [
  {
   "cell_type": "code",
   "execution_count": 1,
   "id": "7b0c3143",
   "metadata": {},
   "outputs": [],
   "source": [
    "import numpy as np"
   ]
  },
  {
   "cell_type": "markdown",
   "id": "2d1506c4",
   "metadata": {},
   "source": [
    "# Fiche 1"
   ]
  },
  {
   "cell_type": "markdown",
   "id": "1541bbbd",
   "metadata": {},
   "source": [
    "# EXERCICE 1"
   ]
  },
  {
   "cell_type": "code",
   "execution_count": 29,
   "id": "2753d369",
   "metadata": {},
   "outputs": [
    {
     "name": "stdout",
     "output_type": "stream",
     "text": [
      "11\n"
     ]
    }
   ],
   "source": [
    "scalaire_1=np.array(5)\n",
    "scalaire_2=np.array(6)\n",
    "print(scalaire_1 + scalaire_2)"
   ]
  },
  {
   "cell_type": "markdown",
   "id": "c4e96824",
   "metadata": {},
   "source": [
    "# EXERCICE 2"
   ]
  },
  {
   "cell_type": "code",
   "execution_count": 10,
   "id": "0583a3fc",
   "metadata": {},
   "outputs": [
    {
     "name": "stdout",
     "output_type": "stream",
     "text": [
      "[4 5 3]\n",
      "(3,)\n"
     ]
    }
   ],
   "source": [
    "vecteur_1=np.array([1,2,3])\n",
    "vecteur_2=np.array([3,2,1])\n",
    "vecteur_3=np.array([0,1,-1])\n",
    "vecteurs=vecteur_1+vecteur_2+vecteur_3\n",
    "print(vecteurs)\n",
    "print(vecteurs.shape)"
   ]
  },
  {
   "cell_type": "markdown",
   "id": "830427ee",
   "metadata": {},
   "source": [
    "# EXERCICE 3"
   ]
  },
  {
   "cell_type": "code",
   "execution_count": 30,
   "id": "79972c6c",
   "metadata": {},
   "outputs": [
    {
     "name": "stdout",
     "output_type": "stream",
     "text": [
      "[0 0 0 0 0 0]\n"
     ]
    }
   ],
   "source": [
    "scalaire=np.array(0)\n",
    "vecteur=np.array([125,2185,321,665,17,-8])\n",
    "resultat=scalaire*vecteur\n",
    "print(resultat)"
   ]
  },
  {
   "cell_type": "markdown",
   "id": "63227e16",
   "metadata": {},
   "source": [
    "# EXERCICE 4"
   ]
  },
  {
   "cell_type": "code",
   "execution_count": 15,
   "id": "ca4ab8f7",
   "metadata": {},
   "outputs": [
    {
     "data": {
      "text/plain": [
       "(2, 3)"
      ]
     },
     "execution_count": 15,
     "metadata": {},
     "output_type": "execute_result"
    }
   ],
   "source": [
    "matrice=np.array([[1,2,3],[4,5,6]])\n",
    "matrice.shape"
   ]
  },
  {
   "cell_type": "markdown",
   "id": "21badee5",
   "metadata": {},
   "source": [
    "# EXERCICE 5"
   ]
  },
  {
   "cell_type": "code",
   "execution_count": 18,
   "id": "cdb57127",
   "metadata": {},
   "outputs": [
    {
     "name": "stdout",
     "output_type": "stream",
     "text": [
      "[[3 4 5 6]\n",
      " [6 7 8 9]]\n"
     ]
    }
   ],
   "source": [
    "matrice_1=np.array([[1,2,3,4],[5,6,7,8]])\n",
    "matrice_2=np.array([[2,2,2,2],[1,1,1,1]])\n",
    "resultat=matrice_1 + matrice_2\n",
    "print(resultat)"
   ]
  },
  {
   "cell_type": "markdown",
   "id": "3275cfa7",
   "metadata": {},
   "source": [
    "# EXERCICE 6"
   ]
  },
  {
   "cell_type": "code",
   "execution_count": 27,
   "id": "ccb39022",
   "metadata": {},
   "outputs": [
    {
     "name": "stdout",
     "output_type": "stream",
     "text": [
      "[ 8 14]\n",
      "[ 9 18]\n",
      "[17 32]\n",
      "[25.5 48. ]\n"
     ]
    }
   ],
   "source": [
    "V1=np.array([4,7])\n",
    "V2=np.array([3,6])\n",
    "a1=2\n",
    "a2=3\n",
    "a3=1.5\n",
    "vect1=V1*a1\n",
    "print(vect1)\n",
    "vect2=V2*a2\n",
    "print(vect2)\n",
    "vect3=vect1 + vect2\n",
    "print(vect3)\n",
    "vect4=vect3*a3\n",
    "print(vect4)"
   ]
  },
  {
   "cell_type": "code",
   "execution_count": 41,
   "id": "6cdd7223",
   "metadata": {},
   "outputs": [
    {
     "data": {
      "text/plain": [
       "array([[ 0,  1,  2,  3,  4],\n",
       "       [ 5,  6,  7,  8,  9],\n",
       "       [10, 11, 12, 13, 14],\n",
       "       [15, 16, 17, 18, 19]])"
      ]
     },
     "execution_count": 41,
     "metadata": {},
     "output_type": "execute_result"
    }
   ],
   "source": [
    "matrice=np.array([[0,1,2,3,4],[5,6,7,8,9],[10,11,12,13,14],[15,16,17,18,19]])\n",
    "matrice"
   ]
  },
  {
   "cell_type": "code",
   "execution_count": 42,
   "id": "fad87214",
   "metadata": {},
   "outputs": [],
   "source": [
    "matrice[0:1]=0"
   ]
  },
  {
   "cell_type": "code",
   "execution_count": 43,
   "id": "c68ec26e",
   "metadata": {},
   "outputs": [
    {
     "data": {
      "text/plain": [
       "array([[ 0,  0,  0,  0,  0],\n",
       "       [ 5,  6,  7,  8,  9],\n",
       "       [10, 11, 12, 13, 14],\n",
       "       [15, 16, 17, 18, 19]])"
      ]
     },
     "execution_count": 43,
     "metadata": {},
     "output_type": "execute_result"
    }
   ],
   "source": [
    "matrice"
   ]
  },
  {
   "cell_type": "markdown",
   "id": "a51850b4",
   "metadata": {},
   "source": [
    "# Fiche 2"
   ]
  },
  {
   "cell_type": "markdown",
   "id": "13d9497d",
   "metadata": {},
   "source": [
    "# EXERCICE 1"
   ]
  },
  {
   "cell_type": "code",
   "execution_count": 44,
   "id": "4ccd8779",
   "metadata": {},
   "outputs": [],
   "source": [
    "matrice=np.array([\n",
    "    [1,2,3,4,5,6,7,8,9,10],\n",
    "    [11,12,13,14,15,16,17,18,19,20],\n",
    "    [21,22,23,24,25,26,27,28,29,30],\n",
    "    [31,32,33,34,35,36,37,38,39,40],\n",
    "    [41,42,43,44,45,46,47,48,48,50]\n",
    "])"
   ]
  },
  {
   "cell_type": "code",
   "execution_count": 45,
   "id": "c5e5b85e",
   "metadata": {},
   "outputs": [
    {
     "data": {
      "text/plain": [
       "array([[36, 37, 38, 39, 40],\n",
       "       [46, 47, 48, 48, 50]])"
      ]
     },
     "execution_count": 45,
     "metadata": {},
     "output_type": "execute_result"
    }
   ],
   "source": [
    "matrice[3:,5:]"
   ]
  },
  {
   "cell_type": "code",
   "execution_count": 46,
   "id": "e7639447",
   "metadata": {},
   "outputs": [
    {
     "data": {
      "text/plain": [
       "50"
      ]
     },
     "execution_count": 46,
     "metadata": {},
     "output_type": "execute_result"
    }
   ],
   "source": [
    "matrice[-1,-1]"
   ]
  },
  {
   "cell_type": "code",
   "execution_count": 47,
   "id": "497910b4",
   "metadata": {},
   "outputs": [
    {
     "data": {
      "text/plain": [
       "array([[37, 38, 39, 40],\n",
       "       [47, 48, 48, 50]])"
      ]
     },
     "execution_count": 47,
     "metadata": {},
     "output_type": "execute_result"
    }
   ],
   "source": [
    "matrice[-2:,6:]"
   ]
  },
  {
   "cell_type": "code",
   "execution_count": null,
   "id": "eef0de40",
   "metadata": {},
   "outputs": [],
   "source": []
  }
 ],
 "metadata": {
  "kernelspec": {
   "display_name": "Python 3",
   "language": "python",
   "name": "python3"
  },
  "language_info": {
   "codemirror_mode": {
    "name": "ipython",
    "version": 3
   },
   "file_extension": ".py",
   "mimetype": "text/x-python",
   "name": "python",
   "nbconvert_exporter": "python",
   "pygments_lexer": "ipython3",
   "version": "3.8.8"
  }
 },
 "nbformat": 4,
 "nbformat_minor": 5
}
